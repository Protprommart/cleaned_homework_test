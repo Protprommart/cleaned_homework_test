{
 "cells": [
  {
   "cell_type": "markdown",
   "id": "4a7070d0",
   "metadata": {},
   "source": [
    "# Find Eigendecomposition of A matrix"
   ]
  },
  {
   "cell_type": "code",
   "execution_count": 1,
   "id": "8c9dc138",
   "metadata": {
    "ExecuteTime": {
     "end_time": "2025-09-04T18:34:13.459094Z",
     "start_time": "2025-09-04T18:34:12.408253Z"
    }
   },
   "outputs": [
    {
     "data": {
      "text/plain": [
       "array([[1, 3],\n",
       "       [3, 1]])"
      ]
     },
     "execution_count": 1,
     "metadata": {},
     "output_type": "execute_result"
    }
   ],
   "source": [
    "import numpy as np\n",
    "import numpy.random as nr\n",
    "import matplotlib.pyplot as plt\n",
    "from itertools import combinations\n",
    "%matplotlib inline\n",
    "\n",
    "## Create a small array  \n",
    "A = np.array([[1,3], [3, 1]])\n",
    "A"
   ]
  },
  {
   "cell_type": "code",
   "execution_count": 2,
   "id": "f7bd9907",
   "metadata": {
    "ExecuteTime": {
     "end_time": "2025-09-04T18:34:15.011372Z",
     "start_time": "2025-09-04T18:34:14.981768Z"
    }
   },
   "outputs": [
    {
     "name": "stdout",
     "output_type": "stream",
     "text": [
      "[[ 4.  0.]\n",
      " [ 0. -2.]]\n",
      "[[ 0.70710678  0.70710678]\n",
      " [ 0.70710678 -0.70710678]]\n"
     ]
    }
   ],
   "source": [
    "## Eigendecomposition\n",
    "## Complete the code below\n",
    "Q = np.transpose(Q)\n",
    "## Complete the code below\n",
    "print(Eigs)\n",
    "print(Q)"
   ]
  },
  {
   "cell_type": "markdown",
   "id": "3e93a5b9",
   "metadata": {},
   "source": [
    "Examine the result and answer the question.\n",
    "\n",
    "1. Explain what is Eigendecomposition\n",
    "2. What is the equation of Eigendecomposition\n",
    "3. How many is/are eigenvalues? What is/are their values?"
   ]
  },
  {
   "cell_type": "markdown",
   "id": "3ba0c5d0",
   "metadata": {
    "tags": [
     "solution"
    ]
   },
   "source": [
    "**Answers:** \n",
    " ##Insert the answers below"
   ]
  },
  {
   "cell_type": "code",
   "execution_count": null,
   "id": "f473e5f3",
   "metadata": {},
   "outputs": [],
   "source": []
  }
 ],
 "metadata": {
  "celltoolbar": "Tags",
  "kernelspec": {
   "display_name": "Python 3 (ipykernel)",
   "language": "python",
   "name": "python3"
  },
  "language_info": {
   "codemirror_mode": {
    "name": "ipython",
    "version": 3
   },
   "file_extension": ".py",
   "mimetype": "text/x-python",
   "name": "python",
   "nbconvert_exporter": "python",
   "pygments_lexer": "ipython3",
   "version": "3.11.10"
  },
  "varInspector": {
   "cols": {
    "lenName": 16,
    "lenType": 16,
    "lenVar": 40
   },
   "kernels_config": {
    "python": {
     "delete_cmd_postfix": "",
     "delete_cmd_prefix": "del ",
     "library": "var_list.py",
     "varRefreshCmd": "print(var_dic_list())"
    },
    "r": {
     "delete_cmd_postfix": ") ",
     "delete_cmd_prefix": "rm(",
     "library": "var_list.r",
     "varRefreshCmd": "cat(var_dic_list()) "
    }
   },
   "types_to_exclude": [
    "module",
    "function",
    "builtin_function_or_method",
    "instance",
    "_Feature"
   ],
   "window_display": false
  }
 },
 "nbformat": 4,
 "nbformat_minor": 5
}
